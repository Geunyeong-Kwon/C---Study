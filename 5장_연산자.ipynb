{
  "nbformat": 4,
  "nbformat_minor": 0,
  "metadata": {
    "colab": {
      "provenance": [],
      "authorship_tag": "ABX9TyNr9A2vtg0kPXIGK50PgRU5",
      "include_colab_link": true
    },
    "kernelspec": {
      "name": "python3",
      "display_name": "Python 3"
    },
    "language_info": {
      "name": "python"
    }
  },
  "cells": [
    {
      "cell_type": "markdown",
      "metadata": {
        "id": "view-in-github",
        "colab_type": "text"
      },
      "source": [
        "<a href=\"https://colab.research.google.com/github/Geunyeong-Kwon/C---Study/blob/main/5%EC%9E%A5_%EC%97%B0%EC%82%B0%EC%9E%90.ipynb\" target=\"_parent\"><img src=\"https://colab.research.google.com/assets/colab-badge.svg\" alt=\"Open In Colab\"/></a>"
      ]
    },
    {
      "cell_type": "markdown",
      "source": [
        "#연산자와 피연산자\n",
        "- 1항 연산자: 피연산자의 개수가 1개인 연산자, 단항 연산자라고도 부름 ex) -a, ++x, --y\n",
        "- 2항 연산자: 피연산자의 개수가 2개인 연산자 ex) x + y, x - y\n",
        "- 3항 연산자: 피연산자의 개수가 3개인 연산자 ex) x ? y : z\n"
      ],
      "metadata": {
        "id": "pv6eQYR9RK5e"
      }
    },
    {
      "cell_type": "markdown",
      "source": [
        "#연산자의 분류 및 의미\n",
        "- 산술: + - * / %\n",
        "- 비교: > < >= <= == !=\n",
        "- 논리: && || !\n",
        "- 대입: =\n",
        "- 증감: ++ --\n",
        "- 나열: ,\n",
        "- 크기 계산: sizeof\n",
        "- 형 변환: (type)\n",
        "- 비트: & | ^ ~ << >>\n",
        "- 복합 대입: += -= *= /= %=\n",
        "- 조건: ?\n",
        "- 포인터: * & {}\n",
        "- . ->"
      ],
      "metadata": {
        "id": "XujSl7BwVj56"
      }
    },
    {
      "cell_type": "markdown",
      "source": [
        "#연산자 우선 순위\n",
        "- 우선 순위가 높은 연산자가 먼저 계산되며 괄호 () 연산자의 우선순위가 가장 높다.\n",
        "- 1항 연산자의 우선순위가 2항 연산자보다 높다.\n",
        "- 같은 우선순위일 경우 결합방향(연산방향)에 따라 연산된다.\n",
        "- 2항 연산자의 결합방향은 왼쪽에서 오른쪽이며 대입 연산자만 반대 방향이다.\n",
        "- 연산자들의 우선 순위가 생각나지 않으면 괄호를 이용"
      ],
      "metadata": {
        "id": "7PqU6x0zWlwo"
      }
    },
    {
      "cell_type": "markdown",
      "source": [
        "#산술 연산자\n",
        "- 산술 연산자란 덧셈(+), 뺄셈(-), 곱섹(*), 나눗셈(/)과 같이 산술 연산에 사용되는 연산자\n",
        "- 나머지 연산자(%)는 나눗셈 결과의 나머지를 알려주는 연산자\n",
        "- ex) - : -A 음수를 양수로, 양수를 음수로 (우선 순위 매우 높음), * : 곱셈(우선 순위 높음), / : 나눗셈(우선 순위 높음), % : 나머지(우선 순위 높음), + : 덧셈(우선 순위 낮음), - : 뺄셈(우선 순위 낮음)\n"
      ],
      "metadata": {
        "id": "62uzVdoZW_5v"
      }
    },
    {
      "cell_type": "markdown",
      "source": [
        "#비교 연산자\n",
        "- 두 개의 자료를 비교하여 크다, 작다, 같다, 다르다 등을 판단할 때 사용\n",
        "- A != B는 두 수가 다른지를 비교하는 것\n",
        "- 우선 순위 높음: >, <, >=, <=\n",
        "- 우선 순위 낮음: ==, !=\n",
        "- 비교 연산자는 산술 연산자보다 우선 순위가 낮다."
      ],
      "metadata": {
        "id": "GfXsFk0ZZJcr"
      }
    },
    {
      "cell_type": "markdown",
      "source": [
        "#비교 연산의 결과는 1, 0\n",
        "- C언어에는 참과 거짓을 나타내는 자료형이 없음\n",
        "- 거짓을 0, 참을 1로 정했음\n",
        "- 비교 연산자의 결과는 언제나 0이거나 1\n",
        "\n"
      ],
      "metadata": {
        "id": "s3v9wDdDZrpC"
      }
    },
    {
      "cell_type": "code",
      "source": [
        "%%writefile a.c\n",
        "#include<stdio.h>\n",
        "int main(){\n",
        "  int num1, num2;\n",
        "\n",
        "  printf(\"2개 숫자를 입력: \");\n",
        "  scanf(\"%d %d\", &num1,&num2);\n",
        "\n",
        "  printf(\"두 수가 같은가? %d\\n\",num1==num2);\n",
        "  printf(\"num1이 더 큰가? %d\\n\", num1 > num2);\n",
        "  printf(\"num2는 양수인가? %d\\n\", num2 >= 1);\n",
        "\n",
        "  return 0;\n",
        "\n",
        "}"
      ],
      "metadata": {
        "colab": {
          "base_uri": "https://localhost:8080/"
        },
        "id": "w3FKJsV0axUn",
        "outputId": "be9cc690-8371-46fa-dcec-97b56ad4f815"
      },
      "execution_count": null,
      "outputs": [
        {
          "output_type": "stream",
          "name": "stdout",
          "text": [
            "Overwriting a.c\n"
          ]
        }
      ]
    },
    {
      "cell_type": "code",
      "source": [
        "!ls"
      ],
      "metadata": {
        "colab": {
          "base_uri": "https://localhost:8080/"
        },
        "id": "slZxflHscTP6",
        "outputId": "a1b68ca2-a713-4381-9e5b-7dfd768e45a9"
      },
      "execution_count": null,
      "outputs": [
        {
          "output_type": "stream",
          "name": "stdout",
          "text": [
            "a.c  sample_data\n"
          ]
        }
      ]
    },
    {
      "cell_type": "code",
      "source": [
        "%%shell\n",
        "gcc a.c -o bout\n",
        "./bout"
      ],
      "metadata": {
        "colab": {
          "base_uri": "https://localhost:8080/"
        },
        "id": "dFQ8_tQDdB_w",
        "outputId": "ebdfa091-4fc6-4d2a-db33-309c2748291f"
      },
      "execution_count": null,
      "outputs": [
        {
          "output_type": "stream",
          "name": "stdout",
          "text": [
            "2개 숫자를 입력: 4 2\n",
            "두 수가 같은가? 0\n",
            "num1이 더 큰가? 1\n",
            "num2는 양수인가? 1\n"
          ]
        },
        {
          "output_type": "execute_result",
          "data": {
            "text/plain": []
          },
          "metadata": {},
          "execution_count": 14
        }
      ]
    },
    {
      "cell_type": "markdown",
      "source": [
        "#논리 연산자\n",
        "- 논리 연산자란 AND와 OR와 같은 논리 연산을 하는 연산자\n",
        "- OR 연산자는 ||로 | 기호를 두 번 연달아 씀\n",
        "- AND 연산자는  &&로 & 기호를 연달아 두 번 씀\n",
        "- NOT(부정) 연산자는 ! 기호를 사용\n",
        " "
      ],
      "metadata": {
        "id": "O4BZxKuFe3_j"
      }
    },
    {
      "cell_type": "markdown",
      "source": [
        "#대입 연산자\n",
        "- = : 나열 연산자를 제외하면 모든 연산자 중 우선순위가 최하위이고 결합 방향이 오른쪽에서 왼쪽이다."
      ],
      "metadata": {
        "id": "AllKByA7fW5e"
      }
    },
    {
      "cell_type": "markdown",
      "source": [
        "#증감 연산자\n",
        "- 어떤 값을 1 증가시키거나 1 감소시키는 연산자\n",
        "- 증감 연산자가 전위 증감 연산자와 후위 증감 연산자로 나뉨\n",
        "- ex) ++A: 숫자를 1 증가시킨 후 다른 수식 계산, --A: 숫자를 1 감소시킨 후 다른 수식 계산, A++: 다른 수식을 모두 계산한 후 1 증가, "
      ],
      "metadata": {
        "id": "-DeBl5lFfkWS"
      }
    }
  ]
}