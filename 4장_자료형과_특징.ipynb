{
  "nbformat": 4,
  "nbformat_minor": 0,
  "metadata": {
    "colab": {
      "provenance": [],
      "authorship_tag": "ABX9TyOnRlkbLtNKAA6HVds3yz5m",
      "include_colab_link": true
    },
    "kernelspec": {
      "name": "python3",
      "display_name": "Python 3"
    },
    "language_info": {
      "name": "python"
    }
  },
  "cells": [
    {
      "cell_type": "markdown",
      "metadata": {
        "id": "view-in-github",
        "colab_type": "text"
      },
      "source": [
        "<a href=\"https://colab.research.google.com/github/Geunyeong-Kwon/C---Study/blob/main/4%EC%9E%A5_%EC%9E%90%EB%A3%8C%ED%98%95%EA%B3%BC_%ED%8A%B9%EC%A7%95.ipynb\" target=\"_parent\"><img src=\"https://colab.research.google.com/assets/colab-badge.svg\" alt=\"Open In Colab\"/></a>"
      ]
    },
    {
      "cell_type": "markdown",
      "source": [
        "#scanf()\n",
        "- scanf 앞에는 printf가 있어야 한다.\n",
        "- 프로그램이 scanf()에 도달하면, 실행을 중지하고 사용자의 입력을 기다린다.\n",
        "- 따라서 scnaf() 함수 앞에는 반드시 사용자에게 입력을 지시하는 문장이 있어야 한다. (안내 멘트 중요)"
      ],
      "metadata": {
        "id": "s3Vc2qzIId0H"
      }
    },
    {
      "cell_type": "markdown",
      "source": [
        "#scanf 형식 지정자\n",
        "- %d: 정수를 10진수로 입력한다. ex) scanf(\"%d\", &i);\n",
        "- %f: float 형의 실수로 입력한다. ex) scanf(\"%f\", &f);\n",
        "- %lf: double 형의 실수로 입력한다. ex) scanf(\"%lf\", &d);\n",
        "- %c: 문자 형태로 입력한다. ex) scanf(\"%c\", &ch);\n",
        "- %s: 문자열 형태로 입력한다. ex) char s[10]; scanf(\"%s\", s);\n",
        "\n",
        "- priintf에서는 float, double 상관없이  %f, %lf 아무거나 써도 되지만(주로 %f만 쓰는 경향)\n",
        "- scnaf에서는 %f, %lf를 엄밀히 구분해야 한다.\n"
      ],
      "metadata": {
        "id": "qc2K2U1BJ-1p"
      }
    },
    {
      "cell_type": "markdown",
      "source": [
        "#Visual Studio에서 scanf()사용할 때 주의점\n",
        "- scnaf() 에러 발생 시 대처 방법이 여러 개 있는데 맨 위에 한 줄 추가하면 편하다.\n",
        "- #pragma warning(disable:4996)"
      ],
      "metadata": {
        "id": "JBFbc92wLpAA"
      }
    },
    {
      "cell_type": "markdown",
      "source": [
        "#제어문자(이스케이프 문자)\n",
        "- 제어문자란 화면에 보이지 않지만, 출력을 조절하기 위해서 사용하는 문자\n",
        "- 대표적인 제어문자로 줄 바꿈을 할때 사용하는 \\n이 있음.\n",
        "- 역슬래시(\\)는 이스케이프라 부르는 특수문자이며 \\n은 이스케이프-n이라고도 읽음\n",
        "- \\n은 두 개의 문자처럼 보이지만, 아스키 코드 13번에 등록된 한 개의 문자\n",
        "\n"
      ],
      "metadata": {
        "id": "hoZXyoY-MGGt"
      }
    },
    {
      "cell_type": "markdown",
      "source": [
        "#리터럴\n",
        "- 리터럴(literal)이란 글자 그대로 데이터를 의미\n",
        "- 소스에 적힌 값\n",
        "- ex) 9는 정수 리터럴이고 3.14,10.0은 실수 리터럴\n",
        "- 상수는 크게 두가지 종류\n",
        "- ex)기호 상수(심볼릭 상수), 리터럴(소스에 적힌 값)\n",
        "- 프로그래머들이 '상수' 라고 부르면 보통 기호 상수"
      ],
      "metadata": {
        "id": "DYCj7h2dMpor"
      }
    }
  ]
}