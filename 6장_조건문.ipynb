{
  "nbformat": 4,
  "nbformat_minor": 0,
  "metadata": {
    "colab": {
      "provenance": [],
      "authorship_tag": "ABX9TyNghE7zW9jIFd8OPGoJhB+d",
      "include_colab_link": true
    },
    "kernelspec": {
      "name": "python3",
      "display_name": "Python 3"
    },
    "language_info": {
      "name": "python"
    }
  },
  "cells": [
    {
      "cell_type": "markdown",
      "metadata": {
        "id": "view-in-github",
        "colab_type": "text"
      },
      "source": [
        "<a href=\"https://colab.research.google.com/github/Geunyeong-Kwon/C---Study/blob/main/6%EC%9E%A5_%EC%A1%B0%EA%B1%B4%EB%AC%B8.ipynb\" target=\"_parent\"><img src=\"https://colab.research.google.com/assets/colab-badge.svg\" alt=\"Open In Colab\"/></a>"
      ]
    },
    {
      "cell_type": "markdown",
      "source": [
        "#난수 발생 \n",
        "- 무작위 수 만드는 함수 rand()\n",
        "- 무작위 수(random number)를 만들어 주는 함수가 rand() --> 여기서 rand는 random의 약자입니다.\n",
        "- rand()사용 시 코드 맨 위에 #include <stdlib.h>라고 선언\n",
        "- 다양하게 활용됩니다. 특히 게임 만들 때 꼭 필요\n"
      ],
      "metadata": {
        "id": "ik2ZECtITmtb"
      }
    }
  ]
}