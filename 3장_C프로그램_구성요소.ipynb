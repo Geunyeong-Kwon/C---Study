{
  "nbformat": 4,
  "nbformat_minor": 0,
  "metadata": {
    "colab": {
      "provenance": [],
      "authorship_tag": "ABX9TyPYKvH6qJIY/H/qWxtDGcbx",
      "include_colab_link": true
    },
    "kernelspec": {
      "name": "python3",
      "display_name": "Python 3"
    },
    "language_info": {
      "name": "python"
    }
  },
  "cells": [
    {
      "cell_type": "markdown",
      "metadata": {
        "id": "view-in-github",
        "colab_type": "text"
      },
      "source": [
        "<a href=\"https://colab.research.google.com/github/Geunyeong-Kwon/C---Study/blob/main/3%EC%9E%A5_C%ED%94%84%EB%A1%9C%EA%B7%B8%EB%9E%A8_%EA%B5%AC%EC%84%B1%EC%9A%94%EC%86%8C.ipynb\" target=\"_parent\"><img src=\"https://colab.research.google.com/assets/colab-badge.svg\" alt=\"Open In Colab\"/></a>"
      ]
    },
    {
      "cell_type": "markdown",
      "source": [
        "#main 함수\n",
        "- 컴퓨터는 main() 함수의 중괄호 안에 있는 내용만 실행\n",
        "- C코드에서 작업의 시작과 끝을 알리는 것은 중괄호 {}\n",
        "- printf(\"Hello World\")는 Hello World 글자를 화면에 출력하는 함수\n",
        "- print()함수를 사용하기 위해서는 #include <stdio.h>가 필요\n",
        "- return 0은 정상적으로 종료한다는 의미\n"
      ],
      "metadata": {
        "id": "8OeiPTBICItW"
      }
    },
    {
      "cell_type": "markdown",
      "source": [
        "#라이브러리 함수\n",
        "- C언어에는 마음대로 사용할 수 있는 수천개의 함수가 있음\n",
        "- 미리 만들어 놓은 함수를 라이브러리 혹은 라이브러리 함수라 부름\n",
        "- 관련 있는 함수들을 모아 놓은 파일을 헤더파일(header file). 확장자는 .h\n",
        "-  C 코드에서 가장 많이 사용하는 헤더파일은 stdio.h\n",
        "- 수학 관련 라이브러리 함수들이 모여 있는 헤더 파일의 이름은 math.h\n"
      ],
      "metadata": {
        "id": "L7rG0COOD4cV"
      }
    },
    {
      "cell_type": "markdown",
      "source": [
        "#printf()힘수와 제어문자\n",
        "- 제어 문자(control character)란 화면에 출력되지 않지만, 화면의 상황을 제어하는 문자\n",
        "- 일단 \\n, \\t 두 개부터 시작"
      ],
      "metadata": {
        "id": "vn3k2d8CEsvP"
      }
    },
    {
      "cell_type": "markdown",
      "source": [
        "#함수 호출\n",
        "- 믾은 함수 중에서 가장 먼저 실행되는 것은?\n",
        "  main()함수입니다. 다른 함수들은 main()으로부터 직간접적으로 호출됩니다.\n",
        "- main은 누가 호출할까?\n",
        " 운영체제가 호출합니다."
      ],
      "metadata": {
        "id": "gWf0IwxeFC-N"
      }
    },
    {
      "cell_type": "markdown",
      "source": [
        "#변수(variable)\n",
        "- 프로그램이 사용하는 데이터를 일시적으로 저장할 목적으로 사용하는 메모리 공간\n",
        "- 변수는 데이터 값을 일시적으로 저장하는 역할 \n",
        "- 변수는 데이터를 담는 상자로 생각할 수 있음"
      ],
      "metadata": {
        "id": "0yJRajx4FgKC"
      }
    },
    {
      "cell_type": "markdown",
      "source": [
        "#변수의 이름\n",
        "- 영문자와 숫자, 밑줄 문자(_) 사용\n",
        "- 첫 글자는 반드시 영문자 또는 밑줄 문자(_)\n",
        "- 대문자와 소문자는 구별\n",
        "- C언어의 예약어(키워드)와 똑같은 변수 이름은 허용되지 않는다.\n",
        "- 의미있는 이름이 좋음.\n",
        "- ex) sum, _count, name, student_ID, Monster3"
      ],
      "metadata": {
        "id": "UyLQBplVGBBe"
      }
    },
    {
      "cell_type": "markdown",
      "source": [
        "#변수의 초기화 및 대입 연산\n",
        "- 대입 연산: 변수(왼쪽)에 값(오른쪽)을 저장하는 연산\n"
      ],
      "metadata": {
        "id": "O3jO5MyBG4oJ"
      }
    },
    {
      "cell_type": "markdown",
      "source": [
        "#printf()\n",
        "- printf(): 모니터에 출력을 하기 위한 표준 출력 함수\n",
        "- 형식 지정자: printf()에서 값을 출력하는 형식을 지정한다.\n",
        "- %d: 10진 정수로 출력\n",
        "- %f: 실수로 출력\n",
        "- %c: 문자로 출력\n",
        "- %s: 문자열로 출력"
      ],
      "metadata": {
        "id": "Pi0KtTJgG7LF"
      }
    }
  ]
}